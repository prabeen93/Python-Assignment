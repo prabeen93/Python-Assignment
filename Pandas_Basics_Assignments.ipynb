{
 "cells": [
  {
   "cell_type": "markdown",
   "id": "0ceee045-0264-4540-a0a0-fe034716218d",
   "metadata": {},
   "source": [
    "Q1. Create a Pandas Series that contains the following data: 4, 8, 15, 16, 23, and 42. Then, print the series."
   ]
  },
  {
   "cell_type": "code",
   "execution_count": 1,
   "id": "3edbc39e-28af-4d3d-9217-4a60d94f8563",
   "metadata": {},
   "outputs": [],
   "source": [
    "import pandas as pd "
   ]
  },
  {
   "cell_type": "code",
   "execution_count": 2,
   "id": "7ea8cd8b-67e7-43a4-8b6a-ad2b8f26f131",
   "metadata": {},
   "outputs": [
    {
     "name": "stdout",
     "output_type": "stream",
     "text": [
      "0     4\n",
      "1     8\n",
      "2    15\n",
      "3    16\n",
      "4    23\n",
      "5    42\n",
      "dtype: int64\n"
     ]
    }
   ],
   "source": [
    "data = [4, 8, 15, 16, 23, 42]\n",
    "series = pd.Series(data)\n",
    "print(series)"
   ]
  },
  {
   "cell_type": "markdown",
   "id": "ab3403e5-b524-41c7-8bb3-d2c496bd7424",
   "metadata": {},
   "source": [
    "Q2. Create a variable of list type containing 10 elements in it, and apply pandas.Series function on the\n",
    "variable print it."
   ]
  },
  {
   "cell_type": "code",
   "execution_count": 4,
   "id": "ac300e6e-c5d6-4bc2-a415-dea098749de9",
   "metadata": {},
   "outputs": [
    {
     "name": "stdout",
     "output_type": "stream",
     "text": [
      "0     1\n",
      "1     2\n",
      "2     3\n",
      "3     4\n",
      "4     5\n",
      "5     6\n",
      "6     7\n",
      "7     8\n",
      "8     9\n",
      "9    10\n",
      "dtype: int64\n"
     ]
    }
   ],
   "source": [
    "data1 = [1,2,3,4,5,6,7,8,9,10]\n",
    "series1 = pd.Series(data1)\n",
    "print(series1)"
   ]
  },
  {
   "cell_type": "markdown",
   "id": "602fad93-db6c-4e2c-b8cd-55646fbda9c6",
   "metadata": {},
   "source": [
    "Q3. Create a Pandas DataFrame that contains the following data:\n",
    "Name\n",
    "Alice\n",
    "Bob\n",
    "Claire\n",
    "Age\n",
    "25\n",
    "30\n",
    "27\n",
    "Gender\n",
    "Female\n",
    "Male\n",
    "Female\n",
    "Then, print the DataFrame."
   ]
  },
  {
   "cell_type": "code",
   "execution_count": 5,
   "id": "3b09650e-2916-44af-8de5-650c12a5d21b",
   "metadata": {},
   "outputs": [
    {
     "name": "stdout",
     "output_type": "stream",
     "text": [
      "     Name  Age  Gender\n",
      "0   Alice   25  Female\n",
      "1     Bob   30    Male\n",
      "2  Claire   27  Female\n"
     ]
    }
   ],
   "source": [
    "data2 = {'Name': ['Alice', 'Bob', 'Claire'],\n",
    "         'Age': [25, 30, 27],\n",
    "         'Gender': ['Female', 'Male', 'Female']}\n",
    "\n",
    "df = pd.DataFrame(data2)\n",
    "print(df)"
   ]
  },
  {
   "cell_type": "markdown",
   "id": "9fbb79f5-c55e-407e-ae32-b5ff56e3efd0",
   "metadata": {},
   "source": [
    "Q4. What is ‘DataFrame’ in pandas and how is it different from pandas.series? Explain with an example."
   ]
  },
  {
   "cell_type": "code",
   "execution_count": 9,
   "id": "481ed2af-139b-499d-8c52-8571c91e32b0",
   "metadata": {},
   "outputs": [
    {
     "name": "stdout",
     "output_type": "stream",
     "text": [
      "0     4\n",
      "1     8\n",
      "2    15\n",
      "3    16\n",
      "4    23\n",
      "5    42\n",
      "dtype: int64\n",
      "     Name  Age  Gender\n",
      "0   Alice   25  Female\n",
      "1     Bob   30    Male\n",
      "2  Claire   27  Female\n"
     ]
    }
   ],
   "source": [
    "'''In Pandas, a DataFrame is a two-dimensional, size-mutable, and potentially heterogeneous tabular data \n",
    "structure with labeled axes (rows and columns). It can be thought of as a table, similar to a spreadsheet \n",
    "or SQL table, where each column can have a different data type. DataFrames allow for easy manipulation, \n",
    "analysis, and handling of data.\n",
    "\n",
    "On the other hand, a Pandas Series is a one-dimensional labeled array capable of holding data of any type. \n",
    "It's like a single column of data or a single-dimensional array. Series objects have both a data array \n",
    "(like a NumPy array) and an associated array of data labels, called an index.'''\n",
    "\n",
    "#Series Examplpe\n",
    "data = [4, 8, 15, 16, 23, 42]\n",
    "series = pd.Series(data)\n",
    "print(series)\n",
    "\n",
    "#DataFrame Example\n",
    "data2 = {'Name': ['Alice', 'Bob', 'Claire'],\n",
    "         'Age': [25, 30, 27],\n",
    "         'Gender': ['Female', 'Male', 'Female']}\n",
    "\n",
    "df = pd.DataFrame(data2)\n",
    "print(df)"
   ]
  },
  {
   "cell_type": "markdown",
   "id": "61c9a5ba-589e-4b3e-9912-108e6ff2516f",
   "metadata": {},
   "source": [
    "Q5. What are some common functions you can use to manipulate data in a Pandas DataFrame? Can\n",
    "you give an example of when you might use one of these functions?"
   ]
  },
  {
   "cell_type": "code",
   "execution_count": 14,
   "id": "0d8dc4bf-3706-4620-9587-43d893f4f8b0",
   "metadata": {},
   "outputs": [
    {
     "data": {
      "text/plain": [
       "Name      object\n",
       "Age        int64\n",
       "Gender    object\n",
       "dtype: object"
      ]
     },
     "execution_count": 14,
     "metadata": {},
     "output_type": "execute_result"
    }
   ],
   "source": [
    "#to fetch columns in DataFrame\n",
    "df.columns\n",
    "#to fetch 1st 5 records from Dataframe\n",
    "df.head()\n",
    "#to fetch last 5 records from Dataframe\n",
    "df.tail()\n",
    "#to show teh datatype of each column\n",
    "df.dtypes"
   ]
  },
  {
   "cell_type": "markdown",
   "id": "a487a8eb-4600-40b3-9d0f-c31c135753c6",
   "metadata": {},
   "source": [
    "Q6. Which of the following is mutable in nature Series, DataFrame, Panel?"
   ]
  },
  {
   "cell_type": "markdown",
   "id": "da0d63df-418a-4074-a7e8-352f1c67e013",
   "metadata": {},
   "source": [
    "Among Series, DataFrame, Panel, both Series and DataFrame are mutable in nature, while Panel is not."
   ]
  },
  {
   "cell_type": "markdown",
   "id": "a66e2b09-b60c-41b6-a872-674b650439b0",
   "metadata": {},
   "source": [
    "Q7. Create a DataFrame using multiple Series. Explain with an example."
   ]
  },
  {
   "cell_type": "code",
   "execution_count": 8,
   "id": "bcaf41e2-b4ac-40da-a000-635d078e4b1d",
   "metadata": {},
   "outputs": [
    {
     "name": "stdout",
     "output_type": "stream",
     "text": [
      "     Name  Age  Gender\n",
      "0   Alice   25  Female\n",
      "1     Bob   30    Male\n",
      "2  Claire   27  Female\n"
     ]
    }
   ],
   "source": [
    "names = pd.Series(['Alice', 'Bob', 'Claire'])\n",
    "ages = pd.Series([25, 30, 27])\n",
    "genders = pd.Series(['Female', 'Male', 'Female'])\n",
    "\n",
    "# Combining the Series into a DataFrame\n",
    "data3 = {'Name': names,\n",
    "          'Age': ages,\n",
    "          'Gender': genders}\n",
    "\n",
    "df3 = pd.DataFrame(data3)\n",
    "print(df3)"
   ]
  }
 ],
 "metadata": {
  "kernelspec": {
   "display_name": "Python 3 (ipykernel)",
   "language": "python",
   "name": "python3"
  },
  "language_info": {
   "codemirror_mode": {
    "name": "ipython",
    "version": 3
   },
   "file_extension": ".py",
   "mimetype": "text/x-python",
   "name": "python",
   "nbconvert_exporter": "python",
   "pygments_lexer": "ipython3",
   "version": "3.10.8"
  }
 },
 "nbformat": 4,
 "nbformat_minor": 5
}
