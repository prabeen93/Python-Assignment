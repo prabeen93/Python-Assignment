{
 "cells": [
  {
   "cell_type": "markdown",
   "id": "4ef3f02a-0ffa-447b-b3ba-f0ab3ed6b8cc",
   "metadata": {},
   "source": [
    "Q1. Create a vehicle class with an init method having instance variables as name_of_vehicle, max_speed\n",
    "and average_of_vehicle."
   ]
  },
  {
   "cell_type": "code",
   "execution_count": 10,
   "id": "e65f3e1c-b5aa-4c57-836b-19cc69cd9c8a",
   "metadata": {},
   "outputs": [],
   "source": [
    "class vehicle:\n",
    "    def __init__(self, name_of_vehicle, max_speed, avg_of_vehicle):\n",
    "        self.name_of_vehicle = name_of_vehicle\n",
    "        self.max_speed = max_speed\n",
    "        self.avg_of_vehicle = avg_of_vehicle\n",
    "    def prop_vehicle(self):\n",
    "        return self.name_of_vehicle, self.max_speed, self.avg_of_vehicle\n",
    "        "
   ]
  },
  {
   "cell_type": "code",
   "execution_count": 11,
   "id": "39f1798b-7891-4721-bb6a-778f9c04295d",
   "metadata": {},
   "outputs": [
    {
     "data": {
      "text/plain": [
       "('Toyato', 130, 12)"
      ]
     },
     "execution_count": 11,
     "metadata": {},
     "output_type": "execute_result"
    }
   ],
   "source": [
    "obj_vehi = vehicle(\"Toyato\", 130, 12)\n",
    "obj_vehi.prop_vehicle()"
   ]
  },
  {
   "cell_type": "markdown",
   "id": "f95de904-34ef-409c-aac7-69de2e084aa1",
   "metadata": {},
   "source": [
    "Q2. Create a child class car from the vehicle class created in Que 1, which will inherit the vehicle class.\n",
    "Create a method named seating_capacity which takes capacity as an argument and returns the name of\n",
    "the vehicle and its seating capacity."
   ]
  },
  {
   "cell_type": "code",
   "execution_count": 12,
   "id": "e5f9ff89-c480-4326-ab8d-901df5ff5d48",
   "metadata": {},
   "outputs": [],
   "source": [
    "class vehicle1:\n",
    "    def __init__(self, name_of_vehicle, max_speed, avg_of_vehicle):\n",
    "        self.name_of_vehicle = name_of_vehicle\n",
    "        self.max_speed = max_speed\n",
    "        self.avg_of_vehicle = avg_of_vehicle\n",
    "    def prop_vehicle(self):\n",
    "        return self.name_of_vehicle, self.max_speed, self.avg_of_vehicle\n",
    "\n",
    "class car(vehicle1):\n",
    "    def __init__(self, capacity):\n",
    "        self.capacity = capacity\n",
    "        \n",
    "    def seating_capacity(self):\n",
    "        return self.name_of_vehicle, self.capacity\n",
    "        \n",
    "    "
   ]
  },
  {
   "cell_type": "code",
   "execution_count": 16,
   "id": "726ad09f-2991-48c4-99cd-6f43caaa63d3",
   "metadata": {},
   "outputs": [
    {
     "ename": "AttributeError",
     "evalue": "'car' object has no attribute 'name_of_vehicle'",
     "output_type": "error",
     "traceback": [
      "\u001b[0;31m---------------------------------------------------------------------------\u001b[0m",
      "\u001b[0;31mAttributeError\u001b[0m                            Traceback (most recent call last)",
      "Cell \u001b[0;32mIn[16], line 3\u001b[0m\n\u001b[1;32m      1\u001b[0m obj_vehi1 \u001b[38;5;241m=\u001b[39m vehicle1(\u001b[38;5;124m\"\u001b[39m\u001b[38;5;124mHonda\u001b[39m\u001b[38;5;124m\"\u001b[39m, \u001b[38;5;241m120\u001b[39m, \u001b[38;5;241m14\u001b[39m)\n\u001b[1;32m      2\u001b[0m obj_car \u001b[38;5;241m=\u001b[39m car(\u001b[38;5;241m5\u001b[39m)\n\u001b[0;32m----> 3\u001b[0m \u001b[43mobj_car\u001b[49m\u001b[38;5;241;43m.\u001b[39;49m\u001b[43mseating_capacity\u001b[49m\u001b[43m(\u001b[49m\u001b[43m)\u001b[49m\n",
      "Cell \u001b[0;32mIn[12], line 14\u001b[0m, in \u001b[0;36mcar.seating_capacity\u001b[0;34m(self)\u001b[0m\n\u001b[1;32m     13\u001b[0m \u001b[38;5;28;01mdef\u001b[39;00m \u001b[38;5;21mseating_capacity\u001b[39m(\u001b[38;5;28mself\u001b[39m):\n\u001b[0;32m---> 14\u001b[0m     \u001b[38;5;28;01mreturn\u001b[39;00m \u001b[38;5;28;43mself\u001b[39;49m\u001b[38;5;241;43m.\u001b[39;49m\u001b[43mname_of_vehicle\u001b[49m, \u001b[38;5;28mself\u001b[39m\u001b[38;5;241m.\u001b[39mcapacity\n",
      "\u001b[0;31mAttributeError\u001b[0m: 'car' object has no attribute 'name_of_vehicle'"
     ]
    }
   ],
   "source": [
    "obj_vehi1 = vehicle1(\"Honda\", 120, 14)\n",
    "obj_car = car(5)\n",
    "obj_car.seating_capacity()\n",
    "obj_car."
   ]
  },
  {
   "cell_type": "markdown",
   "id": "674939eb-a36a-4310-ab17-5437c569da1f",
   "metadata": {},
   "source": [
    "Q3. What is multiple inheritance? Write a python code to demonstrate multiple inheritance."
   ]
  },
  {
   "cell_type": "code",
   "execution_count": 23,
   "id": "b8e7b89e-f4b4-42a2-8c7f-fe4db182b8c4",
   "metadata": {},
   "outputs": [],
   "source": [
    "#One class can inheritate the property of multiple class\n",
    "\n",
    "class test1:\n",
    "    def test_class1(self):\n",
    "        print(\"print from class1\")\n",
    "\n",
    "class test2:\n",
    "    def test_class2(self):\n",
    "        print(\"print from class2\")\n",
    "        \n",
    "class test3(test1, test2):\n",
    "    pass\n"
   ]
  },
  {
   "cell_type": "code",
   "execution_count": 27,
   "id": "e6d06d35-4c5e-45f4-876d-4fbfa1c2f75a",
   "metadata": {},
   "outputs": [
    {
     "name": "stdout",
     "output_type": "stream",
     "text": [
      "print from class1\n",
      "print from class2\n"
     ]
    }
   ],
   "source": [
    "obj_class3 = test3()\n",
    "obj_class3.test_class1()\n",
    "obj_class3.test_class2()"
   ]
  },
  {
   "cell_type": "markdown",
   "id": "67477691-43db-4350-b30e-0318cce9bd58",
   "metadata": {},
   "source": [
    "Q4. What are getter and setter in python? Create a class and create a getter and a setter method in this\n",
    "class."
   ]
  },
  {
   "cell_type": "code",
   "execution_count": 1,
   "id": "eb4ce4ab-f439-4b6b-914c-66f8b217b5c9",
   "metadata": {},
   "outputs": [],
   "source": [
    "#Getter and Setter are used to display the private variables.\n",
    "\n",
    "class pwskills:\n",
    "    \n",
    "    def __init__(self, course_price , course_name):\n",
    "        self.__course_price = course_price\n",
    "        self.course_name = course_name\n",
    "        \n",
    "    @property\n",
    "    def course_price_access(self):\n",
    "        return self.__course_price\n",
    "    \n",
    "    @course_price_access.setter\n",
    "    def course_price_set(self , price):\n",
    "        if price <= 3500:\n",
    "            pass\n",
    "        else :\n",
    "            self.__course_price = price\n",
    "    "
   ]
  },
  {
   "cell_type": "code",
   "execution_count": 5,
   "id": "c456b557-e7e7-4af2-8634-2426c8fc890c",
   "metadata": {},
   "outputs": [
    {
     "data": {
      "text/plain": [
       "4500"
      ]
     },
     "execution_count": 5,
     "metadata": {},
     "output_type": "execute_result"
    }
   ],
   "source": [
    "pw = pwskills(3500 , \"data science masters\")\n",
    "pw.course_price_access\n",
    "pw.course_price_set = 4500\n",
    "pw.course_price_access"
   ]
  },
  {
   "cell_type": "markdown",
   "id": "e9a89fa5-d1c0-485b-92bc-2568dbb3cafd",
   "metadata": {},
   "source": [
    "Q5.What is method overriding in python? Write a python code to demonstrate method overriding."
   ]
  },
  {
   "cell_type": "code",
   "execution_count": 6,
   "id": "7af8ff34-eb45-45ae-9fbf-e184c444ec5b",
   "metadata": {},
   "outputs": [
    {
     "name": "stdout",
     "output_type": "stream",
     "text": [
      "I have 4 sides. I am from Square class\n",
      "I am a 2D object. I am from shape class\n",
      "I have teal color. I am from Square class.\n",
      "Old value of data1 =  abc\n",
      "The value of data1 in Shape class overridden by the Square class =  New value\n"
     ]
    }
   ],
   "source": [
    "# Parent class\n",
    "class Shape:\n",
    "    # properties\n",
    "    data1 = \"abc\"\n",
    "\n",
    "    # function no_of_sides\n",
    "    def no_of_sides(self):\n",
    "        print(\"My sides need to be defined. I am from shape class.\")\n",
    "\n",
    "    # function two_dimensional\n",
    "    def two_dimensional(self):\n",
    "        print(\"I am a 2D object. I am from shape class\")\n",
    "\n",
    "#Sub-class\n",
    "class Square(Shape):\n",
    "    data2 = \"xyz\"\n",
    "\n",
    "    def no_of_sides(self):\n",
    "        print(\"I have 4 sides. I am from Square class\")\n",
    "\n",
    "    def color(self):\n",
    "        print(\"I have teal color. I am from Square class.\")\n",
    "\n",
    "\n",
    "# Create an object of Square class\n",
    "sq = Square()\n",
    "# Override the no_of_sides of parent class\n",
    "sq.no_of_sides()\n",
    "# Will inherit this method from the parent class\n",
    "sq.two_dimensional()\n",
    "# It's own method - color\n",
    "sq.color()\n",
    "print(\"Old value of data1 = \", sq.data1)\n",
    "# Override property of the Parent class\n",
    "sq.data1 = \"New value\"\n",
    "print(\"The value of data1 in Shape class overridden by the Square class = \", sq.data1)\n"
   ]
  }
 ],
 "metadata": {
  "kernelspec": {
   "display_name": "Python 3 (ipykernel)",
   "language": "python",
   "name": "python3"
  },
  "language_info": {
   "codemirror_mode": {
    "name": "ipython",
    "version": 3
   },
   "file_extension": ".py",
   "mimetype": "text/x-python",
   "name": "python",
   "nbconvert_exporter": "python",
   "pygments_lexer": "ipython3",
   "version": "3.10.8"
  }
 },
 "nbformat": 4,
 "nbformat_minor": 5
}
