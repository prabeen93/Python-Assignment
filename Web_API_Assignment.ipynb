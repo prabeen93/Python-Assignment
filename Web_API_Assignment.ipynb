{
 "cells": [
  {
   "cell_type": "markdown",
   "id": "e32bd3a3-1c52-4601-bf44-661580463050",
   "metadata": {},
   "source": [
    "Q1. What is an API? Give an example, where an API is used in real life."
   ]
  },
  {
   "cell_type": "markdown",
   "id": "005d01e7-c381-4ab2-9f21-635810247b1d",
   "metadata": {},
   "source": [
    "An application programming interface is a way for two or more computer programs to communicate with each other.\n",
    "\n",
    "In everyday life, APIs power various experiences, from social media interactions to real-time weather data access. Public API examples include social media bots, third-party login, e-commerce transactions, and weather apps."
   ]
  },
  {
   "cell_type": "markdown",
   "id": "792b8f97-915f-4e0e-bba3-0eefefe27201",
   "metadata": {},
   "source": [
    "Q2. Give advantages and disadvantages of using API."
   ]
  },
  {
   "cell_type": "markdown",
   "id": "7df65df3-868b-460f-940c-f1b6e8db0655",
   "metadata": {},
   "source": [
    "Advantage:\n",
    "    \n",
    "    Improved Efficiency\n",
    "    Better User Experience\n",
    "    Increased Flexibility\n",
    "    \n",
    "Diadvantage:\n",
    "    \n",
    "    Security Concerns\n",
    "    Dependency on Third-Party Developers"
   ]
  },
  {
   "cell_type": "markdown",
   "id": "c8bdf15f-7d0e-4eb7-901e-329609af7084",
   "metadata": {},
   "source": [
    "Q3. What is a Web API? Differentiate between API and Web API."
   ]
  },
  {
   "cell_type": "markdown",
   "id": "59a8ebd1-3e46-42a1-a966-fed6203d9e83",
   "metadata": {},
   "source": [
    "A web API is an application programming interface for either a web server or a web browser. As a web development concept, it can be related to a web application's client side.\n",
    "\n",
    "Differnece between API and Web API\n",
    "\n",
    "Both APIs and web services are technologies that enable the transfer of data between separate software applications. API is an interface that exposes an application's data to outside software, whereas web applications are one type of API with stricter requirements. These requirements include network communication, SOAP as the primary protocol, and less accessibility for the public. "
   ]
  },
  {
   "cell_type": "markdown",
   "id": "09628e4a-7dfe-46b9-9e76-9c9195295912",
   "metadata": {},
   "source": [
    "Q4. Explain REST and SOAP Architecture. Mention shortcomings of SOAP."
   ]
  },
  {
   "cell_type": "markdown",
   "id": "0380afaf-dacd-4b45-be9d-2ae842da5d07",
   "metadata": {},
   "source": [
    "SOAP and REST are two different approaches to API design. The SOAP approach is highly structured and uses XML data format. REST is more flexible and allows applications to exchange data in multiple formats\n",
    "\n",
    "Shortcome of SOAP\n",
    "\n",
    "Highly complex. In comparison to Rest, \n",
    "SOAP is significantly more complex. ...\n",
    "No variety of data formats. \n",
    "SOAP is also extremely limited in its support of data formats. ...\n",
    "API calls are not cached. ...\n",
    "Uses more bandwidth."
   ]
  },
  {
   "cell_type": "markdown",
   "id": "7b9a9b1f-9d14-4593-9c74-036de72ab42e",
   "metadata": {},
   "source": [
    "Q5. Differentiate between REST and SOAP."
   ]
  },
  {
   "cell_type": "markdown",
   "id": "bad5cab7-0740-4ac7-96f7-b83975bd3c15",
   "metadata": {},
   "source": [
    "SOAP and REST are two different approaches to API design. The SOAP approach is highly structured and uses XML data format. REST is more flexible and allows applications to exchange data in multiple formats."
   ]
  }
 ],
 "metadata": {
  "kernelspec": {
   "display_name": "Python 3 (ipykernel)",
   "language": "python",
   "name": "python3"
  },
  "language_info": {
   "codemirror_mode": {
    "name": "ipython",
    "version": 3
   },
   "file_extension": ".py",
   "mimetype": "text/x-python",
   "name": "python",
   "nbconvert_exporter": "python",
   "pygments_lexer": "ipython3",
   "version": "3.10.8"
  }
 },
 "nbformat": 4,
 "nbformat_minor": 5
}
