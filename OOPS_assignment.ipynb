{
 "cells": [
  {
   "cell_type": "markdown",
   "id": "fccb576e-7985-4a15-be19-2ad5bf4f69e4",
   "metadata": {},
   "source": [
    "Q1. Explain Class and Object with respect to Object-Oriented Programming. Give a suitable example."
   ]
  },
  {
   "cell_type": "code",
   "execution_count": 20,
   "id": "0404efde-72a2-4651-a014-ba1d39acb8f4",
   "metadata": {},
   "outputs": [],
   "source": [
    "#Class - Class is an object constructor or blueprint to create an object\n",
    "#Object - Object is used to access the class's functtions\n",
    "\n",
    "class test:\n",
    "    def test_fun(self):\n",
    "        print(\"This is a test Class\")"
   ]
  },
  {
   "cell_type": "code",
   "execution_count": 21,
   "id": "c54c52c4-2e6e-4756-bc35-4cb6bc4079a0",
   "metadata": {},
   "outputs": [
    {
     "name": "stdout",
     "output_type": "stream",
     "text": [
      "This is a test Class\n"
     ]
    }
   ],
   "source": [
    "test_obj = test()\n",
    "test_obj.test_fun()"
   ]
  },
  {
   "cell_type": "markdown",
   "id": "db2a0dfb-0f19-4af1-8788-3f52ba08d86f",
   "metadata": {},
   "source": [
    "Q2. Name the four pillars of OOPs."
   ]
  },
  {
   "cell_type": "markdown",
   "id": "79d4735a-2e98-4e6e-bf1d-0ac1c0e52a9f",
   "metadata": {},
   "source": [
    "The Four Pillars of Object Oriented Programming\n",
    "\n",
    "1. Abstraction\n",
    "2. Encapsulation\n",
    "3. Inheritance\n",
    "4. Polymorphism"
   ]
  },
  {
   "cell_type": "markdown",
   "id": "bd2ccb7a-5c94-425f-a1a1-ac0dac782bf7",
   "metadata": {},
   "source": [
    "Q3. Explain why the __init__() function is used. Give a suitable example."
   ]
  },
  {
   "cell_type": "code",
   "execution_count": 23,
   "id": "506a85be-8fb2-478e-9ac8-c7944d0beb3b",
   "metadata": {},
   "outputs": [],
   "source": [
    "#Init function is used to take the data into a class\n",
    "\n",
    "class test_init:\n",
    "    def __init__(self, name, ph_num):\n",
    "        self.name = name\n",
    "        self.ph_num = ph_num\n",
    "    def display(self):\n",
    "        return self.name , self.ph_num\n",
    "        "
   ]
  },
  {
   "cell_type": "code",
   "execution_count": 27,
   "id": "b8e05c89-6b5d-4336-82d2-f7f895198f4b",
   "metadata": {},
   "outputs": [
    {
     "data": {
      "text/plain": [
       "('Praben', '999999123')"
      ]
     },
     "execution_count": 27,
     "metadata": {},
     "output_type": "execute_result"
    }
   ],
   "source": [
    "init_obj = test_init(\"Praben\", \"999999123\")\n",
    "init_obj.display()"
   ]
  },
  {
   "cell_type": "markdown",
   "id": "8ebcaedb-0655-4fe1-9e0f-a43379e04b67",
   "metadata": {},
   "source": [
    "Q4. Why self is used in OOPs?"
   ]
  },
  {
   "cell_type": "markdown",
   "id": "bb3439bd-cc75-4920-9640-f9b8dd3a4486",
   "metadata": {},
   "source": [
    "Self represents the instance of the class. By using the self we can access the attributes and methods of the class in python. It binds the attributes with the given arguments."
   ]
  },
  {
   "cell_type": "markdown",
   "id": "d84a0e97-c583-44d3-9f0e-201677ca5ed2",
   "metadata": {},
   "source": [
    "Q5. What is inheritance? Give an example for each type of inheritance."
   ]
  },
  {
   "cell_type": "markdown",
   "id": "6210401d-e905-4758-95d3-9dd1f9eb5a3e",
   "metadata": {},
   "source": [
    "one class can inheritate the property of another class.\n",
    "There are 2 types of Inheritance \n",
    "1. Multi Level \n",
    "2. Myltiple"
   ]
  },
  {
   "cell_type": "code",
   "execution_count": 29,
   "id": "8b3272eb-da10-409e-a438-3bf4ea583ec3",
   "metadata": {},
   "outputs": [],
   "source": [
    "#Multilevel Inheritance\n",
    "\n",
    "class class1:\n",
    "    def test_class1(self):\n",
    "        print(\"This is class1\")\n",
    " \n",
    "class class2(class1):\n",
    "    def test_class2(self):\n",
    "        print(\"This is class2\")\n",
    "class class3(class2):\n",
    "    def test_class3(self):\n",
    "        print(\"This is class3\")"
   ]
  },
  {
   "cell_type": "code",
   "execution_count": 33,
   "id": "0070bb10-8a15-4b19-b485-88a36198bc0d",
   "metadata": {},
   "outputs": [
    {
     "name": "stdout",
     "output_type": "stream",
     "text": [
      "This is class1\n",
      "This is class2\n",
      "This is class3\n"
     ]
    }
   ],
   "source": [
    "obj_class3 = class3()\n",
    "obj_class3.test_class1()\n",
    "obj_class3.test_class2()\n",
    "obj_class3.test_class3()"
   ]
  },
  {
   "cell_type": "code",
   "execution_count": 36,
   "id": "7971877a-cea6-470a-9f2e-157f9baef1de",
   "metadata": {},
   "outputs": [],
   "source": [
    "#Multiple Inheritance\n",
    "\n",
    "class class4:\n",
    "    def test_class4(self):\n",
    "        print(\"This is class1\")\n",
    " \n",
    "class class5:\n",
    "    def test_class5(self):\n",
    "        print(\"This is class2\")\n",
    "class class6(class1, class2):\n",
    "    def test_class3(self):\n",
    "        print(\"This is class3\")"
   ]
  },
  {
   "cell_type": "code",
   "execution_count": 35,
   "id": "1b4c7cf9-022c-4d53-aba8-be2a2f240d8d",
   "metadata": {},
   "outputs": [
    {
     "name": "stdout",
     "output_type": "stream",
     "text": [
      "This is class1\n",
      "This is class2\n",
      "This is class3\n"
     ]
    }
   ],
   "source": [
    "obj_class4 = class3()\n",
    "obj_class3.test_class1()\n",
    "obj_class3.test_class2()\n",
    "obj_class3.test_class3()"
   ]
  }
 ],
 "metadata": {
  "kernelspec": {
   "display_name": "Python 3 (ipykernel)",
   "language": "python",
   "name": "python3"
  },
  "language_info": {
   "codemirror_mode": {
    "name": "ipython",
    "version": 3
   },
   "file_extension": ".py",
   "mimetype": "text/x-python",
   "name": "python",
   "nbconvert_exporter": "python",
   "pygments_lexer": "ipython3",
   "version": "3.10.8"
  }
 },
 "nbformat": 4,
 "nbformat_minor": 5
}
