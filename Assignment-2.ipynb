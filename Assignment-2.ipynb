{
 "cells": [
  {
   "cell_type": "markdown",
   "id": "24cf3b97",
   "metadata": {},
   "source": [
    "Q1. How do you comment code in Python? What are the different types of comments?"
   ]
  },
  {
   "cell_type": "code",
   "execution_count": 1,
   "id": "88159fab",
   "metadata": {},
   "outputs": [
    {
     "data": {
      "text/plain": [
       "1"
      ]
     },
     "execution_count": 1,
     "metadata": {},
     "output_type": "execute_result"
    }
   ],
   "source": [
    "#There are 2 types of comments in python\n",
    "#1 - Single line comment(#EX)\n",
    "#2 - Multi line comment('''EX''')\n",
    "\n",
    "#We can specifi single line comment in # symbol\n",
    "'''We can specify mylti\n",
    "Line comment in symbol'''"
   ]
  },
  {
   "cell_type": "markdown",
   "id": "531df876",
   "metadata": {},
   "source": [
    "Q2. What are variables in Python? How do you declare and assign values to variables?"
   ]
  },
  {
   "cell_type": "code",
   "execution_count": 2,
   "id": "0498cab9",
   "metadata": {},
   "outputs": [],
   "source": [
    "#Variables are the place holders which will hold a value assign to them.\n",
    "'''Types of Variables are -\n",
    "int\n",
    "flot\n",
    "bool\n",
    "str\n",
    "complex\n",
    "bool.... etc\n",
    "'''\n",
    "#In Python there is no command to declare a variable. A variable is created the moment you first assign a value to it.\n",
    "#Eg -\n",
    "Age = 25\n",
    "name = \"Prabeen\"\n",
    "salary = 1000.56\n"
   ]
  },
  {
   "cell_type": "markdown",
   "id": "23ccc83e",
   "metadata": {},
   "source": [
    "Q3. How do you convert one data type to another in Python?"
   ]
  },
  {
   "cell_type": "code",
   "execution_count": 6,
   "id": "8e501fa6",
   "metadata": {},
   "outputs": [
    {
     "name": "stdout",
     "output_type": "stream",
     "text": [
      "<class 'int'>\n",
      "<class 'str'>\n",
      "<class 'float'>\n",
      "<class 'complex'>\n",
      "<class 'bool'>\n"
     ]
    }
   ],
   "source": [
    "#We can simply reassign the valuer to the variable it will change the data type of the variable.\n",
    "\n",
    "#In below example we can see the var1 is changing the data type acccording to the assignment value.\n",
    "\n",
    "var1 = 23\n",
    "print(type(var1))\n",
    "var1 = \"Prabeen\"\n",
    "print(type(var1))\n",
    "var1 = 23.86\n",
    "print(type(var1))\n",
    "var1 = 5+6j\n",
    "print(type(var1))\n",
    "var1 = True\n",
    "print(type(var1))"
   ]
  },
  {
   "cell_type": "markdown",
   "id": "bc1f79f4",
   "metadata": {},
   "source": [
    "Q4. How do you write and execute a Python script from the command line?"
   ]
  },
  {
   "cell_type": "markdown",
   "id": "9e9534a5",
   "metadata": {},
   "source": [
    "We can save write our Python script into a notepad and save it as .py extension.\n",
    "we need to run the script using below command\n",
    "Syntax - \n",
    "python <Filename.py>\n",
    "Ex -\n",
    "python first_pgm.py"
   ]
  },
  {
   "cell_type": "markdown",
   "id": "0dee66ef",
   "metadata": {},
   "source": [
    "Q5. Given a list my_list = [1, 2, 3, 4, 5], write the code to slice the list and obtain the sub-list [2, 3]."
   ]
  },
  {
   "cell_type": "code",
   "execution_count": 9,
   "id": "040d2a4b",
   "metadata": {},
   "outputs": [
    {
     "name": "stdout",
     "output_type": "stream",
     "text": [
      "[2, 3]\n"
     ]
    }
   ],
   "source": [
    "my_list = [1,2,3,4,5]\n",
    "sub_list = my_list[1:3]\n",
    "print(sub_list)\n"
   ]
  },
  {
   "cell_type": "markdown",
   "id": "fef13185",
   "metadata": {},
   "source": [
    "Q6. What is a complex number in mathematics, and how is it represented in Python?"
   ]
  },
  {
   "cell_type": "markdown",
   "id": "6c2dffe0",
   "metadata": {},
   "source": [
    "A complex number is a number which contains the real and imaginary part.\n",
    "In python we can specify as (3+2j)."
   ]
  },
  {
   "cell_type": "markdown",
   "id": "83a36cfc",
   "metadata": {},
   "source": [
    "Q7. What is the correct way to declare a variable named age and assign the value 25 to it?"
   ]
  },
  {
   "cell_type": "markdown",
   "id": "f359fa1a",
   "metadata": {},
   "source": [
    "A variable name must start with a letter or the underscore character\n",
    "A variable name cannot start with a number\n",
    "A variable name can only contain alpha-numeric characters and underscores (A-z, 0-9, and _ )\n",
    "Variable names are case-sensitive (age, Age and AGE are three different variables)\n",
    "A variable name cannot be any of the Python keywords.\n",
    "\n",
    "age = 25 --->This is the correct way to declear and assign a value to the variable"
   ]
  },
  {
   "cell_type": "markdown",
   "id": "237267bf",
   "metadata": {},
   "source": [
    "Q8. Declare a variable named price and assign the value 9.99 to it. What data type does this variable\n",
    "belong to?"
   ]
  },
  {
   "cell_type": "code",
   "execution_count": 10,
   "id": "7b9a4cf4",
   "metadata": {},
   "outputs": [
    {
     "data": {
      "text/plain": [
       "float"
      ]
     },
     "execution_count": 10,
     "metadata": {},
     "output_type": "execute_result"
    }
   ],
   "source": [
    "price = 9.99\n",
    "type(price)\n",
    "\n",
    "#Variable price is the datatype of flot"
   ]
  },
  {
   "cell_type": "markdown",
   "id": "a9b79897",
   "metadata": {},
   "source": [
    "Q9. Create a variable named name and assign your full name to it as a string. How would you print the\n",
    "value of this variable?"
   ]
  },
  {
   "cell_type": "code",
   "execution_count": 11,
   "id": "b6550e9e",
   "metadata": {},
   "outputs": [
    {
     "name": "stdout",
     "output_type": "stream",
     "text": [
      "G Prabeen Kumar\n"
     ]
    }
   ],
   "source": [
    "name = \"G Prabeen Kumar\"\n",
    "print(name)"
   ]
  },
  {
   "cell_type": "markdown",
   "id": "a317f905",
   "metadata": {},
   "source": [
    "Q10. Given the string \"Hello, World!\", extract the substring \"World\"."
   ]
  },
  {
   "cell_type": "code",
   "execution_count": 12,
   "id": "d18a82bf",
   "metadata": {},
   "outputs": [
    {
     "data": {
      "text/plain": [
       "'World'"
      ]
     },
     "execution_count": 12,
     "metadata": {},
     "output_type": "execute_result"
    }
   ],
   "source": [
    "var2 = \"Hello, World!\"\n",
    "var2[7:12]"
   ]
  },
  {
   "cell_type": "markdown",
   "id": "82815b75",
   "metadata": {},
   "source": [
    "Q11. Create a variable named \"is_student\" and assign it a boolean value indicating whether you are\n",
    "currently a student or not."
   ]
  },
  {
   "cell_type": "code",
   "execution_count": 13,
   "id": "911fa577",
   "metadata": {},
   "outputs": [
    {
     "data": {
      "text/plain": [
       "bool"
      ]
     },
     "execution_count": 13,
     "metadata": {},
     "output_type": "execute_result"
    }
   ],
   "source": [
    "is_student = True\n",
    "type(is_student)\n",
    "\n",
    "#This is how we can assign a boolean value to the variable."
   ]
  }
 ],
 "metadata": {
  "kernelspec": {
   "display_name": "Python 3 (ipykernel)",
   "language": "python",
   "name": "python3"
  },
  "language_info": {
   "codemirror_mode": {
    "name": "ipython",
    "version": 3
   },
   "file_extension": ".py",
   "mimetype": "text/x-python",
   "name": "python",
   "nbconvert_exporter": "python",
   "pygments_lexer": "ipython3",
   "version": "3.9.13"
  }
 },
 "nbformat": 4,
 "nbformat_minor": 5
}
