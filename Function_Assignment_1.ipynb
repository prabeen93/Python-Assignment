{
 "cells": [
  {
   "cell_type": "markdown",
   "id": "94f4e1ab",
   "metadata": {},
   "source": [
    "Q1. Which keyword is used to create a function? Create a function to return a list of odd numbers in the\n",
    "range of 1 to 25."
   ]
  },
  {
   "cell_type": "code",
   "execution_count": 7,
   "id": "842e7699",
   "metadata": {},
   "outputs": [
    {
     "data": {
      "text/plain": [
       "[1, 3, 5, 7, 9, 11, 13, 15, 17, 19, 21, 23, 25]"
      ]
     },
     "execution_count": 7,
     "metadata": {},
     "output_type": "execute_result"
    }
   ],
   "source": [
    "#def key word is used to creat a function.\n",
    "\n",
    "def list_odd_num():\n",
    "    l=[]\n",
    "    for i in range(26):\n",
    "        if i % 2 != 0:\n",
    "            l.append(i)\n",
    "    return l\n",
    "\n",
    "list_odd_num()"
   ]
  },
  {
   "cell_type": "markdown",
   "id": "ed384c44",
   "metadata": {},
   "source": [
    "Q2. Why *args and **kwargs is used in some functions? Create a function each for *args and **kwargs to\n",
    "demonstrate their use."
   ]
  },
  {
   "cell_type": "code",
   "execution_count": 20,
   "id": "80c808ac",
   "metadata": {},
   "outputs": [
    {
     "name": "stdout",
     "output_type": "stream",
     "text": [
      "(5, 6)\n",
      "{'cource': 'Data science', 'provider': 'PW Skills', 'Instructor': 'Sudhanshu'}\n"
     ]
    }
   ],
   "source": [
    "# *args are used to take any no. of arguments as input to a functions.\n",
    "# **kwargs are used to pass only key, value kind of data to a function.\n",
    "\n",
    "# *args example\n",
    "def args_fun(*args):\n",
    "    return args\n",
    "\n",
    "def kwargs_fun(**kwargs):\n",
    "    return kwargs\n",
    "\n",
    "print(args_fun(5,6))\n",
    "print(kwargs_fun(cource = \"Data science\", provider = \"PW Skills\", Instructor = \"Sudhanshu\"))"
   ]
  },
  {
   "cell_type": "markdown",
   "id": "69ecc71c",
   "metadata": {},
   "source": [
    "Q3. What is an iterator in python? Name the method used to initialise the iterator object and the method\n",
    "used for iteration. Use these methods to print the first five elements of the given list [2, 4, 6, 8, 10, 12, 14, 16,\n",
    "18, 20]."
   ]
  },
  {
   "cell_type": "code",
   "execution_count": 17,
   "id": "caf4396c",
   "metadata": {},
   "outputs": [
    {
     "name": "stdout",
     "output_type": "stream",
     "text": [
      "2\n",
      "4\n",
      "6\n",
      "8\n",
      "10\n"
     ]
    }
   ],
   "source": [
    "#Iterator\n",
    "#It is the kind of object which can remember what is accessed last time.\n",
    "#iter() is used to initiate the iterator \n",
    "\n",
    "lst = [2,4,6,8,10,12,14,16,18,20]\n",
    "num_iter = iter(lst)\n",
    "print(next(num_iter))\n",
    "print(next(num_iter))\n",
    "print(next(num_iter))\n",
    "print(next(num_iter))\n",
    "print(next(num_iter))"
   ]
  },
  {
   "cell_type": "markdown",
   "id": "a4a68641",
   "metadata": {},
   "source": [
    "Q4. What is a generator function in python? Why yield keyword is used? Give an example of a generator\n",
    "function."
   ]
  },
  {
   "cell_type": "code",
   "execution_count": 16,
   "id": "9f6692de",
   "metadata": {},
   "outputs": [
    {
     "name": "stdout",
     "output_type": "stream",
     "text": [
      "0\n",
      "1\n",
      "4\n",
      "9\n",
      "16\n",
      "25\n",
      "36\n",
      "49\n",
      "64\n",
      "81\n",
      "100\n",
      "121\n",
      "144\n",
      "169\n",
      "196\n",
      "225\n",
      "256\n",
      "289\n",
      "324\n",
      "361\n"
     ]
    }
   ],
   "source": [
    "#Generator funtion itterate through the values and it wont store it.\n",
    "#yield keyword is used to produce a value from the generator.\n",
    "\n",
    "#Defining yield/generator function\n",
    "def gen_fun(n):\n",
    "    for i in range(n):\n",
    "        yield i**2\n",
    "        \n",
    "#Calling the function\n",
    "for i in gen_fun(20):\n",
    "    print(i)"
   ]
  },
  {
   "cell_type": "markdown",
   "id": "783e0703",
   "metadata": {},
   "source": [
    "Q5. Create a generator function for prime numbers less than 1000. Use the next() method to print the\n",
    "first 20 prime numbers."
   ]
  },
  {
   "cell_type": "code",
   "execution_count": 46,
   "id": "be002409",
   "metadata": {},
   "outputs": [
    {
     "name": "stdout",
     "output_type": "stream",
     "text": [
      "2\n",
      "3\n",
      "5\n",
      "7\n",
      "11\n",
      "13\n",
      "17\n",
      "19\n"
     ]
    }
   ],
   "source": [
    "def prime_num():\n",
    "    for number in range (2, 1000):  \n",
    "        if number > 1:  \n",
    "            for i in range (2, number):  \n",
    "                if (number % i) == 0:  \n",
    "                    break  \n",
    "                \n",
    "            else:  \n",
    "                yield number\n",
    "            \n",
    "for prim in prime_num():\n",
    "    if prim < 20:\n",
    "        print(prim)\n",
    "        "
   ]
  },
  {
   "cell_type": "code",
   "execution_count": null,
   "id": "06943511",
   "metadata": {},
   "outputs": [],
   "source": []
  }
 ],
 "metadata": {
  "kernelspec": {
   "display_name": "Python 3 (ipykernel)",
   "language": "python",
   "name": "python3"
  },
  "language_info": {
   "codemirror_mode": {
    "name": "ipython",
    "version": 3
   },
   "file_extension": ".py",
   "mimetype": "text/x-python",
   "name": "python",
   "nbconvert_exporter": "python",
   "pygments_lexer": "ipython3",
   "version": "3.9.13"
  }
 },
 "nbformat": 4,
 "nbformat_minor": 5
}
