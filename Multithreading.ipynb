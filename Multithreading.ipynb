{
 "cells": [
  {
   "cell_type": "markdown",
   "id": "199798fb-7a2b-4806-b841-4b7149fb02ce",
   "metadata": {},
   "source": [
    "Q1. What is multithreading in python? Why is it used? Name the module used to handle threads in python."
   ]
  },
  {
   "cell_type": "markdown",
   "id": "b7ba32f4-73ee-441f-aa94-a499f40215ba",
   "metadata": {},
   "source": [
    "Multithreading refers to concurrently executing multiple threads by rapidly switching the control of the CPU between threads \n",
    "Python multithreading enables efficient utilization of the resources as the threads share the data space and memory.\n",
    "threading module used to handel threads in Python."
   ]
  },
  {
   "cell_type": "markdown",
   "id": "304443eb-5b09-48ea-9429-6a08d61539e8",
   "metadata": {},
   "source": [
    "Q2. Why threading module used? Write the use of the following functions\n",
    " activeCount()\n",
    " currentThread()\n",
    " enumerate()"
   ]
  },
  {
   "cell_type": "markdown",
   "id": "ac289573-1dea-4f7d-9d68-7e916e94c33d",
   "metadata": {},
   "source": [
    "threading module used to handel threads in Python.\n",
    "In Python, the method threading.active_co unt() from the threading module is used to count the currently active or running threads.\n",
    "threading.currentThread() − Returns the number of thread objects in the caller's thread control.\n",
    "Enumerate() method adds a counter to an iterable and returns it in a form of enumerating object."
   ]
  },
  {
   "cell_type": "markdown",
   "id": "29b0b15f-e173-40fe-99ef-5b73d866054e",
   "metadata": {},
   "source": [
    "Q3. Explain the following functions\n",
    "run()\n",
    "start()\n",
    "join()\n",
    "isAlive()"
   ]
  },
  {
   "cell_type": "markdown",
   "id": "8993ec60-26e1-45bb-b05a-6f726de0c6bb",
   "metadata": {},
   "source": [
    "run() - To run Python scripts with the python command, you need to open a command-line and type in the word python , or python3 if you have both versions, followed by the path to your script.\n",
    "start() - To start the mulithreading or multiprocessing\n",
    "join() - It will wait till child process terminates\n",
    "isAlive() - it is used to check whether that thread is alive or not, ie, it is still running or not."
   ]
  },
  {
   "cell_type": "markdown",
   "id": "491ddba5-381d-4b80-8388-a94fcbc2ac6b",
   "metadata": {},
   "source": [
    "Q4. Write a python program to create two threads. Thread one must print the list of squares and thread\n",
    "two must print the list of cubes"
   ]
  },
  {
   "cell_type": "code",
   "execution_count": 10,
   "id": "2e3bc486-04ba-44dc-967c-4e9f636a1401",
   "metadata": {},
   "outputs": [
    {
     "name": "stdout",
     "output_type": "stream",
     "text": [
      "[100]\n",
      "[25]\n",
      "[225]\n",
      "[8]\n",
      "[125]\n",
      "[1000]\n"
     ]
    }
   ],
   "source": [
    "import threading\n",
    "\n",
    "def square(a):\n",
    "    l = []\n",
    "    squ = a*a\n",
    "    l.append(squ)\n",
    "    print(l)\n",
    "\n",
    "def cube(b):\n",
    "    l1 = []\n",
    "    cub = b*b*b\n",
    "    l1.append(cub)\n",
    "    print(l1)\n",
    "\n",
    "thread = [threading.Thread(target=square, args=(i,)) for i in [10,5,15]]\n",
    "thread1 = [threading.Thread(target=cube, args=(j,)) for j in [2,5,10]]\n",
    "\n",
    "for t in thread:\n",
    "    t.start()\n",
    "    \n",
    "for t1 in thread1:\n",
    "    t1.start()\n"
   ]
  },
  {
   "cell_type": "markdown",
   "id": "300ef461-b33a-4be9-b4ed-8c0c9b9bfe9c",
   "metadata": {},
   "source": [
    "Q5. State advantages and disadvantages of multithreading"
   ]
  },
  {
   "cell_type": "markdown",
   "id": "8ddce3a9-c991-45d6-af39-144a2d14eda9",
   "metadata": {},
   "source": [
    "Advantages\n",
    "Enhanced performance by decreased development time\n",
    "Simplified and streamlined program coding\n",
    "Improvised GUI responsiveness\n",
    "Simultaneous and parallelized occurrence of tasks\n",
    "Better use of cache storage by utilization of resources\n",
    "Decreased cost of maintenance\n",
    "Better use of CPU resource\n",
    "\n",
    "Disadvantages\n",
    "Complex debugging and testing processes\n",
    "Overhead switching of context\n",
    "Increased potential for deadlock occurrence\n",
    "Increased difficulty level in writing a program\n",
    "Unpredictable results"
   ]
  },
  {
   "cell_type": "code",
   "execution_count": null,
   "id": "2c3eeeca-d713-4652-b79a-59b48bc7013a",
   "metadata": {},
   "outputs": [],
   "source": []
  }
 ],
 "metadata": {
  "kernelspec": {
   "display_name": "Python 3 (ipykernel)",
   "language": "python",
   "name": "python3"
  },
  "language_info": {
   "codemirror_mode": {
    "name": "ipython",
    "version": 3
   },
   "file_extension": ".py",
   "mimetype": "text/x-python",
   "name": "python",
   "nbconvert_exporter": "python",
   "pygments_lexer": "ipython3",
   "version": "3.10.8"
  }
 },
 "nbformat": 4,
 "nbformat_minor": 5
}
