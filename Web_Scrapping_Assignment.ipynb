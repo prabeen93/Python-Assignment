{
 "cells": [
  {
   "cell_type": "markdown",
   "id": "4510598d-f02c-4704-901e-bfee8ff832ba",
   "metadata": {},
   "source": [
    "Q1. What is Web Scraping? Why is it Used? Give three areas where Web Scraping is used to get data."
   ]
  },
  {
   "cell_type": "markdown",
   "id": "621c3466-542a-489f-878d-057245082a81",
   "metadata": {},
   "source": [
    "Web scraping is used in a variety of digital businesses that rely on data harvesting. Legitimate use cases include: Search engine bots crawling a site, analyzing its content and then ranking it. Price comparison sites deploying bots to auto-fetch prices and product descriptions for allied seller websites."
   ]
  },
  {
   "cell_type": "markdown",
   "id": "bdb1c6d0-930f-4c7b-b334-3b71833aa4c4",
   "metadata": {},
   "source": [
    "Q2. What are the different methods used for Web Scraping?"
   ]
  },
  {
   "cell_type": "markdown",
   "id": "40068fbc-be53-423d-8447-16dab07ff893",
   "metadata": {},
   "source": [
    "Top 7 Python Web Scraping Libraries & Tools in 2023\n",
    "Beautiful Soup.\n",
    "Requests.\n",
    "Scrapy.\n",
    "Selenium.\n",
    "Playwright.\n",
    "Lxml.\n",
    "Urllib3.\n",
    "MechanicalSoup."
   ]
  },
  {
   "cell_type": "markdown",
   "id": "430882fc-85ce-4cab-bb17-7318932379cc",
   "metadata": {},
   "source": [
    "Q3. What is Beautiful Soup? Why is it used?"
   ]
  },
  {
   "cell_type": "markdown",
   "id": "18eecc58-e18d-4971-b2d3-c8aa4e41528a",
   "metadata": {},
   "source": [
    "Beautiful Soup is a Python package for parsing HTML and XML documents (including having malformed markup. It creates a parse tree for parsed pages that can be used to extract data from HTML, which is useful for web scraping."
   ]
  },
  {
   "cell_type": "markdown",
   "id": "2feb54e2-3d84-484f-a521-faa5fe5a12d8",
   "metadata": {},
   "source": [
    "Q4. Why is flask used in this Web Scraping project?"
   ]
  },
  {
   "cell_type": "markdown",
   "id": "fe84a696-c8bf-4b0c-9bd2-737ade5c4e4b",
   "metadata": {},
   "source": [
    "Flask is a lightweight framework to build websites. We'll use this to parse our collected data and display it as HTML in a new HTML file."
   ]
  },
  {
   "cell_type": "markdown",
   "id": "4d69b8bc-90b1-4af0-8af1-ff2af8610a26",
   "metadata": {},
   "source": [
    "Q5. Write the names of AWS services used in this project. Also, explain the use of each service."
   ]
  },
  {
   "cell_type": "markdown",
   "id": "e4c7a1f7-9461-4845-afdd-130beae29c66",
   "metadata": {},
   "source": [
    "There are 2 AWS services were used in this project is\n",
    "\n",
    "1. Code Pipeline\n",
    "2. Beanstak\n",
    "\n",
    "1. Code Pipeline\n",
    "AWS CodePipeline is a continuous delivery service you can use to model, visualize, and automate the steps required to release your software.\n",
    "2. Beanstak\n",
    "It is used to dploye web application."
   ]
  },
  {
   "cell_type": "code",
   "execution_count": null,
   "id": "a032feaa-53c9-490f-b0ff-4cd0a0725a47",
   "metadata": {},
   "outputs": [],
   "source": []
  }
 ],
 "metadata": {
  "kernelspec": {
   "display_name": "Python 3 (ipykernel)",
   "language": "python",
   "name": "python3"
  },
  "language_info": {
   "codemirror_mode": {
    "name": "ipython",
    "version": 3
   },
   "file_extension": ".py",
   "mimetype": "text/x-python",
   "name": "python",
   "nbconvert_exporter": "python",
   "pygments_lexer": "ipython3",
   "version": "3.10.8"
  }
 },
 "nbformat": 4,
 "nbformat_minor": 5
}
