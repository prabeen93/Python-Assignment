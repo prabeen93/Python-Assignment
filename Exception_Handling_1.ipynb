{
 "cells": [
  {
   "cell_type": "markdown",
   "id": "1c1d6755-991f-41a3-8454-c4ab9388be83",
   "metadata": {},
   "source": [
    "Q1. What is an Exception Python? Write the difference between Exception & syntex Error."
   ]
  },
  {
   "cell_type": "markdown",
   "id": "b25182f7-7e44-4b28-b2c5-e6d038a15b5c",
   "metadata": {},
   "source": [
    "Exception -\n",
    "An Exception is an error that happens during the execution of a program.\n",
    "\n",
    "Difference between Exception & syntex Error.\n",
    "An Exception is an event that occurs during the program execution and disrupts the normal flow of the program's execution. Errors mostly happen at compile-time like syntax error."
   ]
  },
  {
   "cell_type": "markdown",
   "id": "b195ff75-038d-44dc-8efc-6e96efd812f6",
   "metadata": {},
   "source": [
    "Q2. What happen when an exception is not handeled? Explain with an example."
   ]
  },
  {
   "cell_type": "code",
   "execution_count": 3,
   "id": "34e74238-0175-45a1-8cfd-ef7a5c81f208",
   "metadata": {},
   "outputs": [
    {
     "ename": "ZeroDivisionError",
     "evalue": "division by zero",
     "output_type": "error",
     "traceback": [
      "\u001b[0;31m---------------------------------------------------------------------------\u001b[0m",
      "\u001b[0;31mZeroDivisionError\u001b[0m                         Traceback (most recent call last)",
      "Cell \u001b[0;32mIn[3], line 7\u001b[0m\n\u001b[1;32m      4\u001b[0m     div \u001b[38;5;241m=\u001b[39m a\u001b[38;5;241m/\u001b[39m\u001b[38;5;241m0\u001b[39m\n\u001b[1;32m      5\u001b[0m     \u001b[38;5;28;01mreturn\u001b[39;00m div\n\u001b[0;32m----> 7\u001b[0m \u001b[43mdivi\u001b[49m\u001b[43m(\u001b[49m\u001b[38;5;241;43m100\u001b[39;49m\u001b[43m)\u001b[49m\n",
      "Cell \u001b[0;32mIn[3], line 4\u001b[0m, in \u001b[0;36mdivi\u001b[0;34m(a)\u001b[0m\n\u001b[1;32m      3\u001b[0m \u001b[38;5;28;01mdef\u001b[39;00m \u001b[38;5;21mdivi\u001b[39m(a):\n\u001b[0;32m----> 4\u001b[0m     div \u001b[38;5;241m=\u001b[39m \u001b[43ma\u001b[49m\u001b[38;5;241;43m/\u001b[39;49m\u001b[38;5;241;43m0\u001b[39;49m\n\u001b[1;32m      5\u001b[0m     \u001b[38;5;28;01mreturn\u001b[39;00m div\n",
      "\u001b[0;31mZeroDivisionError\u001b[0m: division by zero"
     ]
    }
   ],
   "source": [
    "#If an exception is not handeled then the code will fail.\n",
    "#In below code number is divided by 0 which caused the exceptiom division by zero.\n",
    "\n",
    "def divi(a):\n",
    "    div = a/0\n",
    "    return div\n",
    "\n",
    "divi(100)"
   ]
  },
  {
   "cell_type": "markdown",
   "id": "8c95be07-1a25-465e-b247-6a3bd3363055",
   "metadata": {},
   "source": [
    "Q3. Which Python statements are used to catch and handel exceptions? Explain witn an example."
   ]
  },
  {
   "cell_type": "code",
   "execution_count": 4,
   "id": "e5a98df5-d920-4c83-b90e-4256e7b6688c",
   "metadata": {},
   "outputs": [
    {
     "name": "stdout",
     "output_type": "stream",
     "text": [
      "division by zero\n"
     ]
    }
   ],
   "source": [
    "#except statement is used to catch and handel exception.\n",
    "\n",
    "def divi(a):\n",
    "    try:\n",
    "        div = a/0\n",
    "        return div\n",
    "    except ZeroDivisionError as e:\n",
    "        print(e)\n",
    "        \n",
    "divi(100)\n",
    "        "
   ]
  },
  {
   "cell_type": "markdown",
   "id": "19983363-a448-4644-bcc9-c6b3e020d2f5",
   "metadata": {},
   "source": [
    "Q4. Explain with an Example:\n",
    "    a. try and else\n",
    "    b. finally\n",
    "    c. raise"
   ]
  },
  {
   "cell_type": "code",
   "execution_count": 25,
   "id": "1409dac5-1201-4355-81dc-9199ef458193",
   "metadata": {},
   "outputs": [
    {
     "name": "stdout",
     "output_type": "stream",
     "text": [
      "Try & Else Block Example\n",
      "Else block will execute once the try block success\n",
      "Finally Block Example\n",
      "Error Code\n",
      "Finally block will execute even if the try block success or fail\n"
     ]
    },
    {
     "ename": "Exception",
     "evalue": "('Error is', 6)",
     "output_type": "error",
     "traceback": [
      "\u001b[0;31m---------------------------------------------------------------------------\u001b[0m",
      "\u001b[0;31mException\u001b[0m                                 Traceback (most recent call last)",
      "Cell \u001b[0;32mIn[25], line 35\u001b[0m\n\u001b[1;32m     33\u001b[0m divi1(\u001b[38;5;241m8\u001b[39m)\n\u001b[1;32m     34\u001b[0m divi2(\u001b[38;5;241m2\u001b[39m,\u001b[38;5;241m0\u001b[39m)\n\u001b[0;32m---> 35\u001b[0m \u001b[43mown_exception\u001b[49m\u001b[43m(\u001b[49m\u001b[38;5;241;43m6\u001b[39;49m\u001b[43m)\u001b[49m\n",
      "Cell \u001b[0;32mIn[25], line 29\u001b[0m, in \u001b[0;36mown_exception\u001b[0;34m(a)\u001b[0m\n\u001b[1;32m     27\u001b[0m \u001b[38;5;28;01mdef\u001b[39;00m \u001b[38;5;21mown_exception\u001b[39m(a):\n\u001b[1;32m     28\u001b[0m     \u001b[38;5;28;01mif\u001b[39;00m a \u001b[38;5;241m>\u001b[39m \u001b[38;5;241m5\u001b[39m:\n\u001b[0;32m---> 29\u001b[0m         \u001b[38;5;28;01mraise\u001b[39;00m \u001b[38;5;167;01mException\u001b[39;00m(\u001b[38;5;124m\"\u001b[39m\u001b[38;5;124mError is\u001b[39m\u001b[38;5;124m\"\u001b[39m,a)\n\u001b[1;32m     30\u001b[0m     \u001b[38;5;28;01melse\u001b[39;00m:\n\u001b[1;32m     31\u001b[0m         \u001b[38;5;28mprint\u001b[39m(\u001b[38;5;124m\"\u001b[39m\u001b[38;5;124mInput is OK\u001b[39m\u001b[38;5;124m\"\u001b[39m)\n",
      "\u001b[0;31mException\u001b[0m: ('Error is', 6)"
     ]
    }
   ],
   "source": [
    "#try and else\n",
    "#else block will execute once the try block success.\n",
    "\n",
    "def divi1(a):\n",
    "    try:\n",
    "        print(\"Try & Else Block Example\")\n",
    "        div1 = a/4\n",
    "    except:\n",
    "        print(\"Error Code\")\n",
    "    else:\n",
    "        print(\"Else block will execute once the try block success\")\n",
    "        return div1\n",
    "    \n",
    "#Finally block will execute even if the try block success or fail\n",
    "def divi2(b,c):\n",
    "    try:\n",
    "        print(\"Finally Block Example\")\n",
    "        div2 = b/c\n",
    "    except:\n",
    "        print(\"Error Code\")\n",
    "    else:\n",
    "        print(\"Else block will execute once the try block success\")\n",
    "    finally:\n",
    "        print(\"Finally block will execute even if the try block success or fail\")\n",
    "        \n",
    "#raise is used to raise own exception\n",
    "def own_exception(a):\n",
    "    if a > 5:\n",
    "        raise Exception(\"Error is\",a)\n",
    "    else:\n",
    "        print(\"Input is OK\")\n",
    "        \n",
    "divi1(8)\n",
    "divi2(2,0)\n",
    "own_exception(6)"
   ]
  },
  {
   "cell_type": "markdown",
   "id": "e2b782df-78c1-4c2b-b936-df3fe82b8f11",
   "metadata": {},
   "source": [
    "Q5. What are the custom Exceptions in Python? Why do we need custom Exceptions? Explain with an example."
   ]
  },
  {
   "cell_type": "code",
   "execution_count": 33,
   "id": "61c46df4-1dde-435f-b0eb-740b83c0c873",
   "metadata": {},
   "outputs": [
    {
     "name": "stdin",
     "output_type": "stream",
     "text": [
      "Enter your age: 120\n"
     ]
    },
    {
     "name": "stdout",
     "output_type": "stream",
     "text": [
      "Age limit crossed\n"
     ]
    }
   ],
   "source": [
    "'''Like standard exception classes, custom exceptions are also classes. \n",
    "Hence, you can add functionality to the custom exception classes like: \n",
    "Adding attributes and properties. Adding methods e.g., log the exception, \n",
    "format the output, etc.'''\n",
    "\n",
    "class validateage(Exception):\n",
    "    def __init__(self, msg):\n",
    "        self.msg = msg\n",
    "        \n",
    "def validate_age(age):\n",
    "    if age < 0:\n",
    "        raise validateage(\"Age should not less then Zero\")\n",
    "    elif age > 100:\n",
    "        raise validateage(\"Age limit crossed\")\n",
    "    else:\n",
    "        print (\"Age is Valid\")\n",
    "        \n",
    "try:\n",
    "    age = int(input(\"Enter your age:\"))\n",
    "    validate_age(age)\n",
    "except validateage as e:\n",
    "    print(e)"
   ]
  },
  {
   "cell_type": "markdown",
   "id": "e28a48f1-f06a-4f65-b00d-99b13b73d753",
   "metadata": {},
   "source": [
    "Q6. Create a Custome Exception Class. Use this class to handel an exception."
   ]
  },
  {
   "cell_type": "code",
   "execution_count": 34,
   "id": "4a4a83eb-bcdd-4226-b140-3a5055b6a391",
   "metadata": {},
   "outputs": [
    {
     "name": "stdin",
     "output_type": "stream",
     "text": [
      "Enter your age: -20\n"
     ]
    },
    {
     "name": "stdout",
     "output_type": "stream",
     "text": [
      "Age should not less then Zero\n"
     ]
    }
   ],
   "source": [
    "class validateage(Exception):\n",
    "    def __init__(self, msg):\n",
    "        self.msg = msg\n",
    "        \n",
    "def validate_age(age):\n",
    "    if age < 0:\n",
    "        raise validateage(\"Age should not less then Zero\")\n",
    "    elif age > 100:\n",
    "        raise validateage(\"Age limit crossed\")\n",
    "    else:\n",
    "        print (\"Age is Valid\")\n",
    "        \n",
    "try:\n",
    "    age = int(input(\"Enter your age:\"))\n",
    "    validate_age(age)\n",
    "except validateage as e:\n",
    "    print(e)"
   ]
  }
 ],
 "metadata": {
  "kernelspec": {
   "display_name": "Python 3 (ipykernel)",
   "language": "python",
   "name": "python3"
  },
  "language_info": {
   "codemirror_mode": {
    "name": "ipython",
    "version": 3
   },
   "file_extension": ".py",
   "mimetype": "text/x-python",
   "name": "python",
   "nbconvert_exporter": "python",
   "pygments_lexer": "ipython3",
   "version": "3.10.8"
  }
 },
 "nbformat": 4,
 "nbformat_minor": 5
}
