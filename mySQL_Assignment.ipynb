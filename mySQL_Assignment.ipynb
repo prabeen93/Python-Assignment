{
 "cells": [
  {
   "cell_type": "markdown",
   "id": "ed26c32a-cc6f-41d8-927c-abd15f5b1ab0",
   "metadata": {},
   "source": [
    "Q1. What is a database? Differentiate between SQL and NoSQL databases."
   ]
  },
  {
   "cell_type": "markdown",
   "id": "fe81535d-4842-4a6a-9f84-674d0034f311",
   "metadata": {},
   "source": [
    "DBMS -\n",
    "A database is an organized collection of structured information, or data, typically stored electronically in a computer system.\n",
    "\n",
    "SQL and NoSQL databases -\n",
    "SQL databases are table-based, while NoSQL databases are document, key-value, graph, or wide-column stores"
   ]
  },
  {
   "cell_type": "markdown",
   "id": "97dc8b43-983a-4306-bb52-c99a78726cb8",
   "metadata": {},
   "source": [
    "Q2. What is DDL? Explain why CREATE, DROP, ALTER, and TRUNCATE are used with an example."
   ]
  },
  {
   "cell_type": "markdown",
   "id": "ee100edf-c132-4048-a118-05222dec235a",
   "metadata": {},
   "source": [
    "DDL -\n",
    "A data definition language (DDL) is a computer language used to create and modify the structure of database objects in a database. These database objects include views, schemas, tables, indexes, etc.\n",
    "\n",
    "The CREATE TABLE command creates a new table in the database\n",
    "CREATE TABLE Persons (\n",
    "    PersonID int,\n",
    "    LastName varchar(255),\n",
    "    FirstName varchar(255),\n",
    "    Address varchar(255),\n",
    "    City varchar(255)\n",
    ");\n",
    "\n",
    "The ALTER TABLE command adds, deletes, or modifies columns in a table.\n",
    "\n",
    "ALTER TABLE Customers\n",
    "ADD Email varchar(255);\n",
    "\n",
    "The DROP TABLE command deletes a table in the database.\n",
    "\n",
    "DROP TABLE Shippers;\n",
    "\n",
    "The TRUNCATE TABLE command deletes the data inside a table, but not the table itself.\n",
    "\n",
    "TRUNCATE TABLE Categories;"
   ]
  },
  {
   "cell_type": "markdown",
   "id": "4973ec35-17f8-4c9d-b689-7026fe1aff3d",
   "metadata": {},
   "source": [
    "Q3. What is DML? Explain INSERT, UPDATE, and DELETE with an example."
   ]
  },
  {
   "cell_type": "markdown",
   "id": "95f61a9c-a937-40f6-b08f-512bc3fa0a2e",
   "metadata": {},
   "source": [
    "A data manipulation language (DML) is a family of computer languages including commands permitting users to manipulate data in a database.\n",
    "\n",
    "The INSERT INTO command is used to insert new rows in a table.\n",
    "INSERT INTO Customers (CustomerName, ContactName, Address, City, PostalCode, Country)\n",
    "VALUES ('Cardinal', 'Tom B. Erichsen', 'Skagen 21', 'Stavanger', '4006', 'Norway');\n",
    "\n",
    "The UPDATE command is used to update existing rows in a table.\n",
    "UPDATE Customers\n",
    "SET ContactName = 'Alfred Schmidt', City= 'Frankfurt'\n",
    "WHERE CustomerID = 1;\n",
    "\n",
    "The DELETE command is used to delete existing records in a table.\n",
    "DELETE FROM Customers WHERE CustomerName='Alfreds Futterkiste';"
   ]
  },
  {
   "cell_type": "markdown",
   "id": "9d6f9ee9-97e2-40dc-8d11-707790546340",
   "metadata": {},
   "source": [
    "Q4. What is DQL? Explain SELECT with an example."
   ]
  },
  {
   "cell_type": "markdown",
   "id": "7d771d1c-3c2b-4ab9-abf5-f7b38a690389",
   "metadata": {},
   "source": [
    "DQL -\n",
    "Data Query Language\n",
    "\n",
    "Select Statement -\n",
    "SELECT * FROM table_name;\n",
    "It will select all the columnjs from table"
   ]
  },
  {
   "cell_type": "markdown",
   "id": "e02ab9e5-596c-44cf-91d2-7d83345845e2",
   "metadata": {},
   "source": [
    "Q5. Explain Primary Key and Foreign Key."
   ]
  },
  {
   "cell_type": "markdown",
   "id": "2d6b3c77-6954-4047-a38e-24c0d6dd295c",
   "metadata": {},
   "source": [
    "A primary key is used to ensure data in the specific column is unique. A foreign key is a column or group of columns in a relational database table that provides a link between data in two tables."
   ]
  },
  {
   "cell_type": "markdown",
   "id": "e38536ba-7826-42d2-a653-5d46352d0235",
   "metadata": {},
   "source": [
    "Q6. Write a python code to connect MySQL to python. Explain the cursor() and execute() method."
   ]
  },
  {
   "cell_type": "code",
   "execution_count": null,
   "id": "20c00a6b-65cf-411a-a199-568f7872da57",
   "metadata": {},
   "outputs": [],
   "source": [
    "import mysql.connector\n",
    "mydb = mysql.connector.connect(\n",
    "    host = \"localhost\"\n",
    "    user = \"abc\"\n",
    "    password = \"password\"\n",
    ")\n",
    "print(mydb)\n",
    "mycursore = mydb.cursor()\n",
    "mycursore.execute(\"show database\")\n",
    "for x in mycursore:\n",
    "    print(x)\n",
    "    \n",
    "'''Cursore() - Using the methods of it you can execute SQL statements, \n",
    "fetch data from the result sets, call procedures.\n",
    "execute() -This method accepts a MySQL query as a parameter and executes the given query.'''"
   ]
  },
  {
   "cell_type": "markdown",
   "id": "e3c2853f-0fd6-4706-b08d-3d8ebbedc889",
   "metadata": {},
   "source": [
    "Q7. Give the order of execution of SQL clauses in an SQL query."
   ]
  },
  {
   "cell_type": "markdown",
   "id": "6720a086-697f-4aef-8d8b-f58c5f53d776",
   "metadata": {},
   "source": [
    "For SELECT Statement below is the order\n",
    "SELECT * FROM TABLE_NAME WHERE CONDITION"
   ]
  }
 ],
 "metadata": {
  "kernelspec": {
   "display_name": "Python 3 (ipykernel)",
   "language": "python",
   "name": "python3"
  },
  "language_info": {
   "codemirror_mode": {
    "name": "ipython",
    "version": 3
   },
   "file_extension": ".py",
   "mimetype": "text/x-python",
   "name": "python",
   "nbconvert_exporter": "python",
   "pygments_lexer": "ipython3",
   "version": "3.10.8"
  }
 },
 "nbformat": 4,
 "nbformat_minor": 5
}
