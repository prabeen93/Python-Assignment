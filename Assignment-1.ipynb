{
 "cells": [
  {
   "cell_type": "markdown",
   "id": "d631b88a",
   "metadata": {},
   "source": [
    "Q1. Create one variable containing following type of data:\n",
    "(i) string\n",
    "(ii) list\n",
    "(iii) float\n",
    "(iv) tuple"
   ]
  },
  {
   "cell_type": "code",
   "execution_count": 21,
   "id": "a2ebdaff",
   "metadata": {},
   "outputs": [
    {
     "ename": "SyntaxError",
     "evalue": "invalid syntax (3738577158.py, line 1)",
     "output_type": "error",
     "traceback": [
      "\u001b[1;36m  File \u001b[1;32m\"C:\\Users\\Prabeen\\AppData\\Local\\Temp\\ipykernel_12280\\3738577158.py\"\u001b[1;36m, line \u001b[1;32m1\u001b[0m\n\u001b[1;33m    //a = \"prabeen\"\u001b[0m\n\u001b[1;37m    ^\u001b[0m\n\u001b[1;31mSyntaxError\u001b[0m\u001b[1;31m:\u001b[0m invalid syntax\n"
     ]
    }
   ],
   "source": [
    "a = \"prabeen\"\n",
    "b = [1,2,5,\"Prabeen\",True,(6+7j)]\n",
    "c = 2.5\n",
    "d = (2,5,8,10,15)"
   ]
  },
  {
   "cell_type": "markdown",
   "id": "ad16b49f",
   "metadata": {},
   "source": [
    "Q2. Given are some following variables containing data:\n",
    "(i) var1 = ‘ ‘                           \n",
    "(ii) var2 = ‘[DS, ML , Python]’          \n",
    "(iii) var3 = [ ‘DS’ , ’ML’ , ‘Python’ ]  \n",
    "(iv) var4 = 1                          \n",
    "\n",
    "What will be the data type of the above given variable."
   ]
  },
  {
   "cell_type": "code",
   "execution_count": null,
   "id": "1d5237ff",
   "metadata": {},
   "outputs": [],
   "source": [
    "var1 = \"\"                         \n",
    "var2 = \"[DS, ML , Python]\"          \n",
    "var3 = [\"DS\", \"ML\",\"Python\"] \n",
    "var4 = 1 \n",
    " \n",
    "print (\"Type of var1 \",type(var1))\n",
    "print (\"Type of var2 \",type(var2))\n",
    "print (\"Type of var3 \",type(var3))\n",
    "print (\"Type of var4 \",type(var4))"
   ]
  },
  {
   "cell_type": "markdown",
   "id": "8c640801",
   "metadata": {},
   "source": [
    "Q3. Explain the use of the following operators using an example:\n",
    "(i) /\n",
    "(ii) %\n",
    "(iii) //\n",
    "(iv) **"
   ]
  },
  {
   "cell_type": "code",
   "execution_count": 43,
   "id": "7fbd6a1a",
   "metadata": {},
   "outputs": [
    {
     "name": "stdout",
     "output_type": "stream",
     "text": [
      "(i) / is the division operatore -> 23 / 3 =  7.666666666666667\n",
      "(ii) % is the remainder operatore -> 23 / 3 =  2\n",
      "(iii) // is only provide the whole number O/P -> 23 / 3 =  7\n",
      "(iV) ** is the power operator -> 23 / 3 =  12167\n"
     ]
    }
   ],
   "source": [
    "a = 23\n",
    "b = 3\n",
    "\n",
    "var1 = a / b\n",
    "var2 = a % b\n",
    "var3 = a // b\n",
    "var4 = a ** b\n",
    "\n",
    "print (\"(i) / is the division operatore -> {} / {} = \".format(a,b), var1)\n",
    "print (\"(ii) % is the remainder operatore -> {} / {} = \".format(a,b), var2)\n",
    "print (\"(iii) // is only provide the whole number O/P -> {} / {} = \".format(a,b), var3)\n",
    "print (\"(iV) ** is the power operator -> {} / {} = \".format(a,b), var4)"
   ]
  },
  {
   "cell_type": "markdown",
   "id": "f72ef97a",
   "metadata": {},
   "source": [
    "Q4. Create a list of length 10 of your choice containing multiple types of data. Using for loop print the\n",
    "element and its data type."
   ]
  },
  {
   "cell_type": "code",
   "execution_count": 47,
   "id": "0a3dbc38",
   "metadata": {},
   "outputs": [
    {
     "name": "stdout",
     "output_type": "stream",
     "text": [
      "type of 1 is  <class 'int'>\n",
      "type of 2.5 is  <class 'float'>\n",
      "type of True is  <class 'bool'>\n",
      "type of machine learning is  <class 'str'>\n",
      "type of (6+5j) is  <class 'complex'>\n",
      "type of [1, 2, 8] is  <class 'list'>\n",
      "type of False is  <class 'bool'>\n",
      "type of 88 is  <class 'str'>\n",
      "type of <class 'bool'> is  <class 'type'>\n",
      "type of 55 is  <class 'int'>\n"
     ]
    }
   ],
   "source": [
    "l = [1, 2.5, True, \"machine learning\", (6+5j), [1,2,8], False, \"88\", bool, 55]\n",
    "\n",
    "for i in l:\n",
    "    print (\"type of {} is \".format(i), type(i))"
   ]
  },
  {
   "cell_type": "markdown",
   "id": "a1a07dea",
   "metadata": {},
   "source": [
    "Q5. Using a while loop, verify if the number A is purely divisible by number B and if so then how many\n",
    "times it can be divisible."
   ]
  },
  {
   "cell_type": "code",
   "execution_count": 50,
   "id": "6cde47db",
   "metadata": {},
   "outputs": [
    {
     "name": "stdout",
     "output_type": "stream",
     "text": [
      "Enter a number: 8\n",
      "Enter a Div number: 3\n"
     ]
    }
   ],
   "source": [
    "A = int(input(\"Enter a number: \"))\n",
    "B = int(input(\"Enter a Div number: \"))\n",
    "\n",
    "while (A % B == 0):\n",
    "    print(\"{} Can be divisible by {}, {} number of times\".format(A,B,A/B))\n",
    "    break"
   ]
  },
  {
   "cell_type": "markdown",
   "id": "9136ce6f",
   "metadata": {},
   "source": [
    "Q6. Create a list containing 25 int type data. Using for loop and if-else condition print if the element is\n",
    "divisible by 3 or not."
   ]
  },
  {
   "cell_type": "code",
   "execution_count": 51,
   "id": "5c7d9e3f",
   "metadata": {},
   "outputs": [
    {
     "name": "stdout",
     "output_type": "stream",
     "text": [
      "12 This number is divisiable by 3\n",
      "3 This number is divisiable by 3\n",
      "15 This number is divisiable by 3\n",
      "30 This number is divisiable by 3\n",
      "21 This number is divisiable by 3\n",
      "1245 This number is divisiable by 3\n",
      "78 This number is divisiable by 3\n",
      "90 This number is divisiable by 3\n",
      "78 This number is divisiable by 3\n",
      "33 This number is divisiable by 3\n",
      "9999 This number is divisiable by 3\n",
      "36 This number is divisiable by 3\n",
      "List Exhausted\n"
     ]
    }
   ],
   "source": [
    "l2 = [12,3,8,15,30,21,22,34,44,131,856,77899,1245,78,90,78,33,9999,47,36]\n",
    "\n",
    "for i in l2:\n",
    "    if i % 3 == 0:\n",
    "        print(\"{} This number is divisiable by 3\".format(i))\n",
    "else:\n",
    "    print(\"List Exhausted\")\n"
   ]
  },
  {
   "cell_type": "markdown",
   "id": "b69cabad",
   "metadata": {},
   "source": [
    "Q7. What do you understand about mutable and immutable data types? Give examples for both showing\n",
    "this property."
   ]
  },
  {
   "cell_type": "markdown",
   "id": "89d7e65e",
   "metadata": {},
   "source": [
    "Ans. Mutable data type is the datatype which we can change the value and immutable datatype we can't change the value."
   ]
  },
  {
   "cell_type": "code",
   "execution_count": 56,
   "id": "69defb97",
   "metadata": {},
   "outputs": [
    {
     "name": "stdout",
     "output_type": "stream",
     "text": [
      "Before changing the list  [1, 5, 'before', 86, 78]\n",
      "After the change  [1, 7, 'after', 86, 78]\n"
     ]
    }
   ],
   "source": [
    "l3 = [1,5,\"before\",86,78]\n",
    "v = \"prabeen\"\n",
    "\n",
    "print(\"Before changing the list \", l3)\n",
    "l3[1] = 7\n",
    "l3[2] = \"after\"\n",
    "print(\"After the change \", l3)"
   ]
  }
 ],
 "metadata": {
  "kernelspec": {
   "display_name": "Python 3 (ipykernel)",
   "language": "python",
   "name": "python3"
  },
  "language_info": {
   "codemirror_mode": {
    "name": "ipython",
    "version": 3
   },
   "file_extension": ".py",
   "mimetype": "text/x-python",
   "name": "python",
   "nbconvert_exporter": "python",
   "pygments_lexer": "ipython3",
   "version": "3.9.13"
  }
 },
 "nbformat": 4,
 "nbformat_minor": 5
}
